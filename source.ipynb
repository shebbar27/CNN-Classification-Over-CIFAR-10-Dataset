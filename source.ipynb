{
  "nbformat": 4,
  "nbformat_minor": 0,
  "metadata": {
    "accelerator": "GPU",
    "colab": {
      "name": "Project Part 3.ipynb",
      "provenance": [],
      "collapsed_sections": []
    },
    "kernelspec": {
      "display_name": "Python 3 (ipykernel)",
      "language": "python",
      "name": "python3"
    },
    "language_info": {
      "codemirror_mode": {
        "name": "ipython",
        "version": 3
      },
      "file_extension": ".py",
      "mimetype": "text/x-python",
      "name": "python",
      "nbconvert_exporter": "python",
      "pygments_lexer": "ipython3",
      "version": "3.8.10"
    }
  },
  "cells": [
    {
      "cell_type": "code",
      "metadata": {
        "id": "njjbgQXJI-Ez"
      },
      "source": [
        "from tensorflow import keras\n",
        "from keras.datasets import cifar10\n",
        "from keras.models import Sequential\n",
        "from keras.layers import Dense, Conv2D, MaxPooling2D, AveragePooling2D, Flatten, Dropout, BatchNormalization, Activation\n",
        "from keras import backend as K\n",
        "from tensorflow.keras.utils import to_categorical"
      ],
      "execution_count": null,
      "outputs": []
    },
    {
      "cell_type": "code",
      "metadata": {
        "id": "Fcn8TffZJLVM"
      },
      "source": [
        "batch_size = 64\n",
        "num_classes = 10\n",
        "epochs = 50"
      ],
      "execution_count": null,
      "outputs": []
    },
    {
      "cell_type": "code",
      "metadata": {
        "id": "aDKabmGIJNHj",
        "colab": {
          "base_uri": "https://localhost:8080/"
        },
        "outputId": "072c6961-1730-45d5-91a6-2f7d52a91a4f"
      },
      "source": [
        "#  input image dimensions\n",
        "img_rows, img_cols = 32, 32\n",
        "# the data, split between train and test sets\n",
        "(x_train, y_train), (x_test, y_test) = cifar10.load_data()\n",
        "if K.image_data_format() == 'channels_first':\n",
        "  x_train = x_train.reshape(x_train.shape[0], 3, img_rows, img_cols)\n",
        "  x_test = x_test.reshape(x_test.shape[0], 3, img_rows, img_cols)\n",
        "  input_shape = (3, img_rows, img_cols)\n",
        "else:\n",
        "  x_train = x_train.reshape(x_train.shape[0], img_rows, img_cols, 3)\n",
        "  x_test = x_test.reshape(x_test.shape[0], img_rows, img_cols, 3)\n",
        "  input_shape = (img_rows, img_cols, 3)"
      ],
      "execution_count": null,
      "outputs": [
        {
          "output_type": "stream",
          "name": "stdout",
          "text": [
            "Downloading data from https://www.cs.toronto.edu/~kriz/cifar-10-python.tar.gz\n",
            "170500096/170498071 [==============================] - 2s 0us/step\n",
            "170508288/170498071 [==============================] - 2s 0us/step\n"
          ]
        }
      ]
    },
    {
      "cell_type": "code",
      "metadata": {
        "id": "PjSWJUwfJU8E",
        "colab": {
          "base_uri": "https://localhost:8080/"
        },
        "outputId": "7cb34ca8-fd95-4f35-a090-e1779ac9e9a2"
      },
      "source": [
        "x_train = x_train.astype('float32')\n",
        "x_test = x_test.astype('float32')\n",
        "x_train /= 255\n",
        "x_test /= 255\n",
        "print('x_train shape:', x_train.shape)\n",
        "print(x_train.shape[0], 'training samples')\n",
        "print(x_test.shape[0], 'testing samples')\n",
        "\n",
        "# convert class vectors to binary class matrices\n",
        "y_train = to_categorical(y_train, num_classes)\n",
        "y_test = to_categorical(y_test, num_classes)"
      ],
      "execution_count": null,
      "outputs": [
        {
          "output_type": "stream",
          "name": "stdout",
          "text": [
            "x_train shape: (50000, 32, 32, 3)\n",
            "50000 training samples\n",
            "10000 testing samples\n"
          ]
        }
      ]
    },
    {
      "cell_type": "code",
      "metadata": {
        "id": "IMupwjnAJW1J"
      },
      "source": [
        "model = Sequential()\n",
        "model.add(Conv2D(filters = 32, kernel_size = (3,3), padding='same', input_shape = input_shape))\n",
        "model.add(Activation('relu'))\n",
        "model.add(BatchNormalization())\n",
        "model.add(Conv2D(filters = 32, kernel_size = (3,3), padding='same'))\n",
        "model.add(Activation('relu'))\n",
        "model.add(BatchNormalization())\n",
        "model.add(MaxPooling2D(2,2))\n",
        "model.add(Dropout(0.2))\n",
        "\n",
        "model.add(Conv2D(filters = 64, kernel_size = (3,3), padding='same'))\n",
        "model.add(Activation('relu'))\n",
        "model.add(BatchNormalization())\n",
        "model.add(Conv2D(filters = 64, kernel_size = (3,3), padding='same'))\n",
        "model.add(Activation('relu'))\n",
        "model.add(BatchNormalization())\n",
        "model.add(MaxPooling2D(2,2))\n",
        "model.add(Dropout(0.3))\n",
        "\n",
        "model.add(Conv2D(filters = 128, kernel_size = (3,3), padding='same'))\n",
        "model.add(Activation('relu'))\n",
        "model.add(BatchNormalization())\n",
        "model.add(Conv2D(filters = 128, kernel_size = (3,3), padding='same'))\n",
        "model.add(Activation('relu'))\n",
        "model.add(BatchNormalization())\n",
        "model.add(MaxPooling2D(2,2))\n",
        "model.add(Dropout(0.4))\n",
        "\n",
        "model.add(Flatten())\n",
        "\n",
        "model.add(Dense(units = 10, activation = 'softmax'))"
      ],
      "execution_count": null,
      "outputs": []
    },
    {
      "cell_type": "code",
      "metadata": {
        "id": "g4rC8aZKJbgT"
      },
      "source": [
        "# https://keras.io/optimizers/\n",
        "model.compile(loss=keras.losses.categorical_crossentropy, optimizer=keras.optimizers.Adam(learning_rate=0.01), metrics=['accuracy'])"
      ],
      "execution_count": null,
      "outputs": []
    },
    {
      "cell_type": "code",
      "metadata": {
        "id": "UAPwRRVtJfVO",
        "colab": {
          "base_uri": "https://localhost:8080/"
        },
        "outputId": "8cae799a-bebd-45c8-e156-d6aaa36b2567"
      },
      "source": [
        "model.fit(x_train, y_train, batch_size=batch_size, epochs=epochs, verbose=1, validation_data=(x_test, y_test))\n",
        "score = model.evaluate(x_test, y_test, verbose=0)\n",
        "print('Test loss:', score[0])\n",
        "print('Test accuracy:', score[1])"
      ],
      "execution_count": null,
      "outputs": [
        {
          "output_type": "stream",
          "name": "stdout",
          "text": [
            "Epoch 1/50\n",
            "782/782 [==============================] - 30s 26ms/step - loss: 1.9750 - accuracy: 0.4082 - val_loss: 1.4379 - val_accuracy: 0.5057\n",
            "Epoch 2/50\n",
            "782/782 [==============================] - 19s 25ms/step - loss: 1.1178 - accuracy: 0.5998 - val_loss: 1.0695 - val_accuracy: 0.6213\n",
            "Epoch 3/50\n",
            "782/782 [==============================] - 19s 25ms/step - loss: 0.9212 - accuracy: 0.6784 - val_loss: 0.9371 - val_accuracy: 0.6756\n",
            "Epoch 4/50\n",
            "782/782 [==============================] - 20s 25ms/step - loss: 0.8280 - accuracy: 0.7104 - val_loss: 0.8598 - val_accuracy: 0.7009\n",
            "Epoch 5/50\n",
            "782/782 [==============================] - 19s 25ms/step - loss: 0.7660 - accuracy: 0.7354 - val_loss: 0.7135 - val_accuracy: 0.7524\n",
            "Epoch 6/50\n",
            "782/782 [==============================] - 20s 25ms/step - loss: 0.7304 - accuracy: 0.7451 - val_loss: 0.6993 - val_accuracy: 0.7624\n",
            "Epoch 7/50\n",
            "782/782 [==============================] - 20s 25ms/step - loss: 0.6967 - accuracy: 0.7598 - val_loss: 0.6650 - val_accuracy: 0.7759\n",
            "Epoch 8/50\n",
            "782/782 [==============================] - 20s 25ms/step - loss: 0.6634 - accuracy: 0.7694 - val_loss: 0.7116 - val_accuracy: 0.7582\n",
            "Epoch 9/50\n",
            "782/782 [==============================] - 20s 25ms/step - loss: 0.6358 - accuracy: 0.7807 - val_loss: 0.6323 - val_accuracy: 0.7861\n",
            "Epoch 10/50\n",
            "782/782 [==============================] - 20s 25ms/step - loss: 0.6244 - accuracy: 0.7863 - val_loss: 0.6709 - val_accuracy: 0.7768\n",
            "Epoch 11/50\n",
            "782/782 [==============================] - 19s 25ms/step - loss: 0.5919 - accuracy: 0.7972 - val_loss: 0.6015 - val_accuracy: 0.7988\n",
            "Epoch 12/50\n",
            "782/782 [==============================] - 19s 25ms/step - loss: 0.5795 - accuracy: 0.8006 - val_loss: 0.8038 - val_accuracy: 0.7340\n",
            "Epoch 13/50\n",
            "782/782 [==============================] - 19s 25ms/step - loss: 0.5640 - accuracy: 0.8069 - val_loss: 0.6840 - val_accuracy: 0.7777\n",
            "Epoch 14/50\n",
            "782/782 [==============================] - 19s 25ms/step - loss: 0.5495 - accuracy: 0.8107 - val_loss: 0.6059 - val_accuracy: 0.7936\n",
            "Epoch 15/50\n",
            "782/782 [==============================] - 19s 25ms/step - loss: 0.5367 - accuracy: 0.8156 - val_loss: 0.5901 - val_accuracy: 0.8023\n",
            "Epoch 16/50\n",
            "782/782 [==============================] - 20s 25ms/step - loss: 0.5182 - accuracy: 0.8229 - val_loss: 0.6062 - val_accuracy: 0.7918\n",
            "Epoch 17/50\n",
            "782/782 [==============================] - 19s 25ms/step - loss: 0.5101 - accuracy: 0.8275 - val_loss: 0.6119 - val_accuracy: 0.8085\n",
            "Epoch 18/50\n",
            "782/782 [==============================] - 19s 25ms/step - loss: 0.4920 - accuracy: 0.8318 - val_loss: 0.5812 - val_accuracy: 0.8098\n",
            "Epoch 19/50\n",
            "782/782 [==============================] - 19s 25ms/step - loss: 0.4841 - accuracy: 0.8345 - val_loss: 0.5897 - val_accuracy: 0.8122\n",
            "Epoch 20/50\n",
            "782/782 [==============================] - 19s 25ms/step - loss: 0.4771 - accuracy: 0.8367 - val_loss: 0.6879 - val_accuracy: 0.7918\n",
            "Epoch 21/50\n",
            "782/782 [==============================] - 20s 25ms/step - loss: 0.4678 - accuracy: 0.8411 - val_loss: 0.5547 - val_accuracy: 0.8230\n",
            "Epoch 22/50\n",
            "782/782 [==============================] - 19s 25ms/step - loss: 0.4586 - accuracy: 0.8433 - val_loss: 0.7447 - val_accuracy: 0.7761\n",
            "Epoch 23/50\n",
            "782/782 [==============================] - 19s 25ms/step - loss: 0.4423 - accuracy: 0.8475 - val_loss: 0.5399 - val_accuracy: 0.8213\n",
            "Epoch 24/50\n",
            "782/782 [==============================] - 19s 25ms/step - loss: 0.4338 - accuracy: 0.8515 - val_loss: 0.6050 - val_accuracy: 0.8179\n",
            "Epoch 25/50\n",
            "782/782 [==============================] - 19s 25ms/step - loss: 0.4323 - accuracy: 0.8529 - val_loss: 0.5589 - val_accuracy: 0.8281\n",
            "Epoch 26/50\n",
            "782/782 [==============================] - 19s 25ms/step - loss: 0.4269 - accuracy: 0.8545 - val_loss: 0.5668 - val_accuracy: 0.8287\n",
            "Epoch 27/50\n",
            "782/782 [==============================] - 19s 25ms/step - loss: 0.4219 - accuracy: 0.8557 - val_loss: 0.5304 - val_accuracy: 0.8338\n",
            "Epoch 28/50\n",
            "782/782 [==============================] - 19s 25ms/step - loss: 0.4095 - accuracy: 0.8596 - val_loss: 0.5952 - val_accuracy: 0.8118\n",
            "Epoch 29/50\n",
            "782/782 [==============================] - 19s 25ms/step - loss: 0.3990 - accuracy: 0.8636 - val_loss: 0.5911 - val_accuracy: 0.8271\n",
            "Epoch 30/50\n",
            "782/782 [==============================] - 19s 25ms/step - loss: 0.3988 - accuracy: 0.8636 - val_loss: 0.5804 - val_accuracy: 0.8241\n",
            "Epoch 31/50\n",
            "782/782 [==============================] - 19s 25ms/step - loss: 0.3925 - accuracy: 0.8661 - val_loss: 0.5696 - val_accuracy: 0.8226\n",
            "Epoch 32/50\n",
            "782/782 [==============================] - 19s 25ms/step - loss: 0.3875 - accuracy: 0.8690 - val_loss: 0.5218 - val_accuracy: 0.8386\n",
            "Epoch 33/50\n",
            "782/782 [==============================] - 19s 25ms/step - loss: 0.3850 - accuracy: 0.8674 - val_loss: 0.5464 - val_accuracy: 0.8326\n",
            "Epoch 34/50\n",
            "782/782 [==============================] - 19s 25ms/step - loss: 0.3768 - accuracy: 0.8706 - val_loss: 0.5370 - val_accuracy: 0.8359\n",
            "Epoch 35/50\n",
            "782/782 [==============================] - 19s 25ms/step - loss: 0.3717 - accuracy: 0.8745 - val_loss: 0.6807 - val_accuracy: 0.8045\n",
            "Epoch 36/50\n",
            "782/782 [==============================] - 19s 25ms/step - loss: 0.3826 - accuracy: 0.8690 - val_loss: 0.5236 - val_accuracy: 0.8402\n",
            "Epoch 37/50\n",
            "782/782 [==============================] - 19s 25ms/step - loss: 0.3568 - accuracy: 0.8799 - val_loss: 0.5390 - val_accuracy: 0.8381\n",
            "Epoch 38/50\n",
            "782/782 [==============================] - 19s 25ms/step - loss: 0.3564 - accuracy: 0.8791 - val_loss: 0.5361 - val_accuracy: 0.8415\n",
            "Epoch 39/50\n",
            "782/782 [==============================] - 19s 25ms/step - loss: 0.3546 - accuracy: 0.8817 - val_loss: 0.5709 - val_accuracy: 0.8295\n",
            "Epoch 40/50\n",
            "782/782 [==============================] - 20s 25ms/step - loss: 0.3534 - accuracy: 0.8806 - val_loss: 0.5419 - val_accuracy: 0.8379\n",
            "Epoch 41/50\n",
            "782/782 [==============================] - 19s 25ms/step - loss: 0.3502 - accuracy: 0.8802 - val_loss: 0.5812 - val_accuracy: 0.8395\n",
            "Epoch 42/50\n",
            "782/782 [==============================] - 20s 25ms/step - loss: 0.3425 - accuracy: 0.8846 - val_loss: 0.5753 - val_accuracy: 0.8354\n",
            "Epoch 43/50\n",
            "782/782 [==============================] - 19s 25ms/step - loss: 0.3431 - accuracy: 0.8838 - val_loss: 0.5537 - val_accuracy: 0.8390\n",
            "Epoch 44/50\n",
            "782/782 [==============================] - 20s 25ms/step - loss: 0.3366 - accuracy: 0.8863 - val_loss: 0.5731 - val_accuracy: 0.8369\n",
            "Epoch 45/50\n",
            "782/782 [==============================] - 20s 25ms/step - loss: 0.3329 - accuracy: 0.8871 - val_loss: 0.5486 - val_accuracy: 0.8420\n",
            "Epoch 46/50\n",
            "782/782 [==============================] - 20s 25ms/step - loss: 0.3330 - accuracy: 0.8884 - val_loss: 0.5906 - val_accuracy: 0.8360\n",
            "Epoch 47/50\n",
            "782/782 [==============================] - 19s 25ms/step - loss: 0.3264 - accuracy: 0.8907 - val_loss: 0.5414 - val_accuracy: 0.8457\n",
            "Epoch 48/50\n",
            "782/782 [==============================] - 19s 25ms/step - loss: 0.3244 - accuracy: 0.8909 - val_loss: 0.5934 - val_accuracy: 0.8387\n",
            "Epoch 49/50\n",
            "782/782 [==============================] - 19s 25ms/step - loss: 0.3190 - accuracy: 0.8932 - val_loss: 0.5509 - val_accuracy: 0.8476\n",
            "Epoch 50/50\n",
            "782/782 [==============================] - 19s 25ms/step - loss: 0.3201 - accuracy: 0.8928 - val_loss: 0.5614 - val_accuracy: 0.8425\n",
            "Test loss: 0.5613693594932556\n",
            "Test accuracy: 0.8424999713897705\n"
          ]
        }
      ]
    }
  ]
}